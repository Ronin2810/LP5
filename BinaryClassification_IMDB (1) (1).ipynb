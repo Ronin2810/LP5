{
 "cells": [
  {
   "cell_type": "code",
   "execution_count": 1,
   "metadata": {
    "id": "97mLiVoqpusT"
   },
   "outputs": [
    {
     "name": "stderr",
     "output_type": "stream",
     "text": [
      "C:\\Users\\Admin\\anaconda3\\lib\\site-packages\\scipy\\__init__.py:146: UserWarning: A NumPy version >=1.16.5 and <1.23.0 is required for this version of SciPy (detected version 1.25.1\n",
      "  warnings.warn(f\"A NumPy version >={np_minversion} and <{np_maxversion}\"\n"
     ]
    }
   ],
   "source": [
    "import numpy as np\n",
    "from tensorflow.keras.datasets import imdb\n",
    "from tensorflow.keras.models import Sequential\n",
    "from tensorflow.keras.layers import Dense, Embedding, Flatten\n",
    "from tensorflow.keras.preprocessing.sequence import pad_sequences\n"
   ]
  },
  {
   "cell_type": "code",
   "execution_count": 2,
   "metadata": {
    "colab": {
     "base_uri": "https://localhost:8080/"
    },
    "id": "3bTs7GOep0zc",
    "outputId": "6104d29b-1fcf-4b60-e65e-cac8edf117a7"
   },
   "outputs": [],
   "source": [
    "# Load the IMDb dataset\n",
    "vocab_size = 10000\n",
    "max_len = 300\n",
    "(X_train, y_train), (X_test, y_test) = imdb.load_data(num_words=vocab_size)\n",
    "# Pad sequences to ensure uniform length\n",
    "X_train = pad_sequences(X_train, maxlen=max_len)\n",
    "X_test = pad_sequences(X_test, maxlen=max_len)\n"
   ]
  },
  {
   "cell_type": "code",
   "execution_count": 3,
   "metadata": {
    "id": "4BrC-3nIp9Kc"
   },
   "outputs": [],
   "source": [
    "\n",
    "# Build the neural network model\n",
    "model = Sequential([\n",
    "    Embedding(input_dim=vocab_size, output_dim=32, input_length=max_len),\n",
    "    Flatten(),\n",
    "    Dense(16, activation='relu'),\n",
    "    Dense(1, activation='sigmoid')\n",
    "])\n"
   ]
  },
  {
   "cell_type": "code",
   "execution_count": 4,
   "metadata": {
    "colab": {
     "base_uri": "https://localhost:8080/"
    },
    "id": "oNerW3nMp_FG",
    "outputId": "86519b37-15e5-48f3-ddf2-092ee0b5b1f8"
   },
   "outputs": [
    {
     "name": "stdout",
     "output_type": "stream",
     "text": [
      "Epoch 1/5\n",
      "157/157 [==============================] - 3s 14ms/step - loss: 0.5284 - accuracy: 0.7082 - val_loss: 0.3246 - val_accuracy: 0.8600\n",
      "Epoch 2/5\n",
      "157/157 [==============================] - 2s 13ms/step - loss: 0.1951 - accuracy: 0.9273 - val_loss: 0.2761 - val_accuracy: 0.8810\n",
      "Epoch 3/5\n",
      "157/157 [==============================] - 2s 13ms/step - loss: 0.0775 - accuracy: 0.9802 - val_loss: 0.3066 - val_accuracy: 0.8828\n",
      "Epoch 4/5\n",
      "157/157 [==============================] - 2s 12ms/step - loss: 0.0258 - accuracy: 0.9963 - val_loss: 0.3351 - val_accuracy: 0.8828\n",
      "Epoch 5/5\n",
      "157/157 [==============================] - 2s 12ms/step - loss: 0.0096 - accuracy: 0.9994 - val_loss: 0.3733 - val_accuracy: 0.8760\n"
     ]
    }
   ],
   "source": [
    "\n",
    "# Compile the model\n",
    "model.compile(optimizer='adam', loss='binary_crossentropy', metrics=['accuracy'])\n",
    "\n",
    "# Train the model\n",
    "history = model.fit(X_train, y_train, epochs=5, batch_size=128, validation_split=0.2)\n"
   ]
  },
  {
   "cell_type": "code",
   "execution_count": 5,
   "metadata": {
    "colab": {
     "base_uri": "https://localhost:8080/"
    },
    "id": "D9RgHCcBqAwv",
    "outputId": "647a240d-f14b-4989-98c1-c33cc56a6201"
   },
   "outputs": [
    {
     "name": "stdout",
     "output_type": "stream",
     "text": [
      "782/782 [==============================] - 1s 2ms/step - loss: 0.3872 - accuracy: 0.8705\n",
      "Test Loss: 0.38720273971557617\n",
      "Test Accuracy: 0.8705199956893921\n"
     ]
    }
   ],
   "source": [
    "\n",
    "# Evaluate the model\n",
    "test_loss, test_accuracy = model.evaluate(X_test, y_test)\n",
    "print(\"Test Loss:\", test_loss)\n",
    "print(\"Test Accuracy:\", test_accuracy)\n"
   ]
  },
  {
   "cell_type": "code",
   "execution_count": 6,
   "metadata": {
    "id": "1LfP84B-qCz9"
   },
   "outputs": [
    {
     "name": "stdout",
     "output_type": "stream",
     "text": [
      "782/782 [==============================] - 1s 1ms/step\n"
     ]
    }
   ],
   "source": [
    "predictions = model.predict(X_test)"
   ]
  },
  {
   "cell_type": "code",
   "execution_count": 7,
   "metadata": {},
   "outputs": [
    {
     "data": {
      "text/plain": [
       "array([[0.07445277],\n",
       "       [0.9999948 ],\n",
       "       [0.38799348],\n",
       "       ...,\n",
       "       [0.00643004],\n",
       "       [0.09357999],\n",
       "       [0.6269142 ]], dtype=float32)"
      ]
     },
     "execution_count": 7,
     "metadata": {},
     "output_type": "execute_result"
    }
   ],
   "source": [
    "predictions"
   ]
  },
  {
   "cell_type": "code",
   "execution_count": 8,
   "metadata": {},
   "outputs": [],
   "source": [
    "def preprocess_input(text):\n",
    "    # Load IMDb word index\n",
    "    word_index = imdb.get_word_index()\n",
    "    # Shift indices by 3 since IMDb dataset reserves first indices for special tokens\n",
    "    word_index = {word: index + 3 for word, index in word_index.items()}\n",
    "    \n",
    "    # Convert input text to lowercase and split into words\n",
    "    words = text.lower().split()\n",
    "    \n",
    "    # Convert words to indices using IMDb word index\n",
    "    indices = [word_index[word] if word in word_index and word_index[word] < vocab_size else 2 for word in words]\n",
    "    \n",
    "    # Pad sequences to ensure uniform length\n",
    "    padded_sequence = pad_sequences([indices], maxlen=max_len)\n",
    "    \n",
    "    return padded_sequence\n"
   ]
  },
  {
   "cell_type": "code",
   "execution_count": 9,
   "metadata": {},
   "outputs": [
    {
     "name": "stdout",
     "output_type": "stream",
     "text": [
      "Enter a review: The movie was really awful, the characters and their dialogues were not at all in sync. The story itself was a fake one.\n",
      "1/1 [==============================] - 0s 15ms/step\n",
      "Predicted sentiment (0 = negative, 1 = positive): 0.14440401\n"
     ]
    }
   ],
   "source": [
    "\n",
    "# User input\n",
    "user_input = input(\"Enter a review: \")\n",
    "\n",
    "# Preprocess user input\n",
    "processed_input = preprocess_input(user_input)\n",
    "\n",
    "# Predict sentiment\n",
    "prediction = model.predict(processed_input)\n",
    "\n",
    "# Print prediction\n",
    "print(\"Predicted sentiment (0 = negative, 1 = positive):\", prediction[0][0])\n"
   ]
  }
 ],
 "metadata": {
  "accelerator": "GPU",
  "colab": {
   "gpuType": "T4",
   "provenance": []
  },
  "kernelspec": {
   "display_name": "Python 3 (ipykernel)",
   "language": "python",
   "name": "python3"
  },
  "language_info": {
   "codemirror_mode": {
    "name": "ipython",
    "version": 3
   },
   "file_extension": ".py",
   "mimetype": "text/x-python",
   "name": "python",
   "nbconvert_exporter": "python",
   "pygments_lexer": "ipython3",
   "version": "3.9.7"
  }
 },
 "nbformat": 4,
 "nbformat_minor": 1
}
